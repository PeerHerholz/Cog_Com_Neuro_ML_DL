{
 "cells": [
  {
   "cell_type": "markdown",
   "metadata": {
    "lines_to_next_cell": 2,
    "slideshow": {
     "slide_type": "slide"
    }
   },
   "source": [
    "# Introduction to git and github"
   ]
  },
  {
   "cell_type": "markdown",
   "metadata": {
    "slideshow": {
     "slide_type": "subslide"
    }
   },
   "source": [
    "### Before we get started ...\n",
    "<br>\n",
    "\n",
    "- most of what you’ll see within this lecture was prepared by Kendra Oudyk and further adapted by Peer Herholz \n",
    "- based on the Software Carpentries \"[Version control with Git](https://swcarpentry.github.io/git-novice/)\" under CC-BY 4.0"
   ]
  },
  {
   "cell_type": "markdown",
   "metadata": {
    "slideshow": {
     "slide_type": "slide"
    }
   },
   "source": [
    "## Roadmap\n",
    "\n",
    "- **Goals**\n",
    "- Setup\n",
    "- Why use git & GitHub?\n",
    "- Where does git store information?\n",
    "- How do I record changes in git?\n",
    "- How do I share my changes on the web?\n",
    "- How do I contribute to an existing project?\n",
    "- Goals"
   ]
  },
  {
   "cell_type": "markdown",
   "metadata": {
    "lines_to_next_cell": 2,
    "slideshow": {
     "slide_type": "subslide"
    }
   },
   "source": [
    "## Goals\n",
    "1. Explain why git/GitHub are useful\n",
    "2. Track and share your work using git/GitHub (git level 1: commit push)\n",
    "3. Contribute to a project using git/GitHub (git level 2: branches PRs)"
   ]
  },
  {
   "cell_type": "markdown",
   "metadata": {
    "slideshow": {
     "slide_type": "slide"
    }
   },
   "source": [
    "## On learning git & GitHub\n",
    "![](../../../static/neurodata/doing_and_understanding_cleaner.png)"
   ]
  },
  {
   "cell_type": "markdown",
   "metadata": {
    "slideshow": {
     "slide_type": "subslide"
    }
   },
   "source": [
    "## Roadmap\n",
    "\n",
    "- Goals\n",
    "- **Setup**\n",
    "- Why use git & GitHub?\n",
    "- Where does git store information?\n",
    "- How do I record changes in git?\n",
    "- How do I share my changes on the web?\n",
    "- How do I contribute to an existing project?\n",
    "- Goals"
   ]
  },
  {
   "cell_type": "markdown",
   "metadata": {
    "slideshow": {
     "slide_type": "slide"
    }
   },
   "source": [
    "## Import side note:\n",
    "\n",
    "**throughout this lecture/practice you will see a lot of things in <>, within each instance please replace <> with your own info**"
   ]
  },
  {
   "cell_type": "markdown",
   "metadata": {
    "slideshow": {
     "slide_type": "fragment"
    }
   },
   "source": [
    "e.g.,\n",
    "\n",
    "`github.com/<your_username>`\n",
    "\n",
    "becomes\n",
    "\n",
    "`github.com/peerherholz`"
   ]
  },
  {
   "cell_type": "markdown",
   "metadata": {
    "slideshow": {
     "slide_type": "slide"
    }
   },
   "source": [
    "## Setup\n",
    "#### To follow on your machine, you'll need\n",
    "1. `Bash`\n",
    "2. `Git`\n",
    "3. `Text editor` (e.g. `VScode`)\n",
    "4. `GitHub` account"
   ]
  },
  {
   "cell_type": "markdown",
   "metadata": {
    "slideshow": {
     "slide_type": "subslide"
    }
   },
   "source": [
    "### Check if you're ready\n",
    "1. Can you open a text editor? (e.g., Linux: gedit, nano. macOS: textedit. Windows: notepad)\n",
    "2. Can you go to your GitHub account?\n",
    "3. When you open a Bash shell and type `git --version`, does it output the version number? (**macOS / Linux**: you might need to run this: `conda install -c anaconda git`)\n"
   ]
  },
  {
   "cell_type": "markdown",
   "metadata": {
    "slideshow": {
     "slide_type": "subslide"
    }
   },
   "source": [
    "### Configure git (if you haven't already)\n",
    "```\n",
    "git config --global user.name \"<Vlad Dracula>\"\n",
    "git config --global user.email \"<vlad@tran.sylvan.ia>\"\n",
    "```\n",
    "*use the email you used for your GitHub account*  👆\n",
    "\n",
    "#### macOS / Linux\n",
    "```\n",
    "git config --global core.autocrlf input\n",
    "```\n",
    "\n",
    "#### Windows\n",
    "```\n",
    "git config --global core.autocrlf true\n",
    "\n",
    "```"
   ]
  },
  {
   "cell_type": "markdown",
   "metadata": {
    "slideshow": {
     "slide_type": "slide"
    }
   },
   "source": [
    "## Roadmap\n",
    "\n",
    "- Goals\n",
    "- Setup\n",
    "- **Why use git & GitHub?**\n",
    "- Where does git store information?\n",
    "- How do I record changes in git?\n",
    "- How do I share my changes on the web?\n",
    "- How do I contribute to an existing project?\n",
    "- Goals"
   ]
  },
  {
   "cell_type": "markdown",
   "metadata": {
    "slideshow": {
     "slide_type": "slide"
    }
   },
   "source": [
    "<img align=\"top\" src=\"https://uidaholib.github.io/get-git/images/phd101212s.gif\" alt=\"git-phd\" title=\"git-phd\" width=\"550\" height=\"500\" />\n",
    "\n",
    "“Piled Higher and Deeper” by Jorge Cham, http://www.phdcomics.com"
   ]
  },
  {
   "cell_type": "markdown",
   "metadata": {
    "slideshow": {
     "slide_type": "slide"
    }
   },
   "source": [
    "### Why use git & GitHub?\n",
    "\n",
    "**Automated version control**"
   ]
  },
  {
   "cell_type": "markdown",
   "metadata": {
    "slideshow": {
     "slide_type": "subslide"
    }
   },
   "source": [
    "### Record versions by tracking *changes*\n",
    "It's like having an unlimited \"undo\" button\n",
    "![](https://swcarpentry.github.io/git-novice/fig/play-changes.svg)"
   ]
  },
  {
   "cell_type": "markdown",
   "metadata": {
    "slideshow": {
     "slide_type": "subslide"
    }
   },
   "source": [
    "### Make independent changes\n",
    "![](https://swcarpentry.github.io/git-novice/fig/versions.svg)"
   ]
  },
  {
   "cell_type": "markdown",
   "metadata": {
    "slideshow": {
     "slide_type": "subslide"
    }
   },
   "source": [
    "### And incorporate the changes\n",
    "\n",
    "![](https://swcarpentry.github.io/git-novice/fig/merge.svg)\n",
    "\n",
    "https://swcarpentry.github.io/git-novice/"
   ]
  },
  {
   "cell_type": "markdown",
   "metadata": {
    "slideshow": {
     "slide_type": "slide"
    }
   },
   "source": [
    "## Roadmap\n",
    "\n",
    "- Goals\n",
    "- Setup\n",
    "- Why use git & GitHub?\n",
    "- **Where does git store information?**\n",
    "- How do I record changes in git?\n",
    "- How do I share my changes on the web?\n",
    "- How do I contribute to an existing project?\n",
    "- Goals"
   ]
  },
  {
   "cell_type": "markdown",
   "metadata": {
    "slideshow": {
     "slide_type": "slide"
    }
   },
   "source": [
    "Open your Bash shell (where you typed `git --version` at the beginning)\n",
    "\n",
    "Create a directory (remember Windows' slashes are the other way)"
   ]
  },
  {
   "cell_type": "code",
   "execution_count": null,
   "metadata": {},
   "outputs": [],
   "source": [
    "cd ~/Desktop\n",
    "mkdir desserts\n",
    "cd desserts\n"
   ]
  },
  {
   "cell_type": "markdown",
   "metadata": {
    "slideshow": {
     "slide_type": "subslide"
    }
   },
   "source": [
    "What's in our directory?"
   ]
  },
  {
   "cell_type": "code",
   "execution_count": null,
   "metadata": {},
   "outputs": [],
   "source": [
    "ls -a"
   ]
  },
  {
   "cell_type": "markdown",
   "metadata": {
    "slideshow": {
     "slide_type": "fragment"
    }
   },
   "source": [
    "Create a git repository"
   ]
  },
  {
   "cell_type": "code",
   "execution_count": null,
   "metadata": {},
   "outputs": [],
   "source": [
    "git init"
   ]
  },
  {
   "cell_type": "markdown",
   "metadata": {
    "slideshow": {
     "slide_type": "subslide"
    }
   },
   "source": [
    "What's in our directory now?"
   ]
  },
  {
   "cell_type": "code",
   "execution_count": null,
   "metadata": {},
   "outputs": [],
   "source": [
    "ls -a"
   ]
  },
  {
   "cell_type": "markdown",
   "metadata": {
    "slideshow": {
     "slide_type": "fragment"
    }
   },
   "source": [
    "**The `.git` subdirectory is where git stores all the info it needs to do version control**"
   ]
  },
  {
   "cell_type": "markdown",
   "metadata": {
    "slideshow": {
     "slide_type": "slide"
    }
   },
   "source": [
    "## Roadmap\n",
    "\n",
    "- Goals\n",
    "- Setup\n",
    "- Why use git & GitHub?\n",
    "- Where does git store information?\n",
    "- **How do I record changes in git?**\n",
    "- How do I share my changes on the web?\n",
    "- How do I contribute to an existing project?\n",
    "- Goals"
   ]
  },
  {
   "cell_type": "markdown",
   "metadata": {
    "slideshow": {
     "slide_type": "slide"
    }
   },
   "source": [
    "![](../../../static/neurodata/w0_init.png)"
   ]
  },
  {
   "cell_type": "markdown",
   "metadata": {
    "slideshow": {
     "slide_type": "subslide"
    }
   },
   "source": [
    "![](../../../static/neurodata/w1_local.png)"
   ]
  },
  {
   "cell_type": "markdown",
   "metadata": {
    "slideshow": {
     "slide_type": "subslide"
    }
   },
   "source": [
    "### `git add`\n",
    "![](https://media0.giphy.com/media/WOIGpnJ3ye445BUQl4/giphy.gif?cid=ecf05e47xmt8lq20s51l110wfhk5x30q2oi82h36gso6tr6a&rid=giphy.gif&ct=g)\n"
   ]
  },
  {
   "cell_type": "markdown",
   "metadata": {
    "slideshow": {
     "slide_type": "subslide"
    }
   },
   "source": [
    "### `git commit`\n",
    "![](https://tse3.mm.bing.net/th?id=OIP.mXq_4t1uO4_rql81xWnL8gHaEK&pid=Api)"
   ]
  },
  {
   "cell_type": "markdown",
   "metadata": {
    "slideshow": {
     "slide_type": "slide"
    }
   },
   "source": [
    "Let's make a change!\n",
    "First, open a new file\n",
    "```\n",
    "<text editor> desserts.md\n",
    "```"
   ]
  },
  {
   "cell_type": "markdown",
   "metadata": {
    "slideshow": {
     "slide_type": "fragment"
    }
   },
   "source": [
    "Write this in the file:\n",
    "\n",
    "> pie\\\n",
    "> ice cream\\\n",
    "> cookies\n",
    "\n",
    "Save and exit"
   ]
  },
  {
   "cell_type": "markdown",
   "metadata": {
    "slideshow": {
     "slide_type": "subslide"
    }
   },
   "source": [
    "Let's check the status of our repo"
   ]
  },
  {
   "cell_type": "code",
   "execution_count": null,
   "metadata": {},
   "outputs": [],
   "source": [
    "git status"
   ]
  },
  {
   "cell_type": "markdown",
   "metadata": {
    "lines_to_next_cell": 2,
    "slideshow": {
     "slide_type": "fragment"
    }
   },
   "source": [
    "How can we include this file in what will be committed?\n",
    "![](figures/zoom_icons/chat_mic.png)"
   ]
  },
  {
   "cell_type": "markdown",
   "metadata": {
    "slideshow": {
     "slide_type": "subslide"
    }
   },
   "source": [
    "Let's stage the change"
   ]
  },
  {
   "cell_type": "code",
   "execution_count": null,
   "metadata": {},
   "outputs": [],
   "source": [
    "git add desserts.md"
   ]
  },
  {
   "cell_type": "markdown",
   "metadata": {
    "slideshow": {
     "slide_type": "fragment"
    }
   },
   "source": [
    "Let's check the status of our `repo`"
   ]
  },
  {
   "cell_type": "code",
   "execution_count": null,
   "metadata": {},
   "outputs": [],
   "source": [
    "git status"
   ]
  },
  {
   "cell_type": "markdown",
   "metadata": {
    "slideshow": {
     "slide_type": "subslide"
    }
   },
   "source": [
    "Let's commit the change"
   ]
  },
  {
   "cell_type": "code",
   "execution_count": null,
   "metadata": {},
   "outputs": [],
   "source": [
    "git commit -m \"list my favorite desserts\""
   ]
  },
  {
   "cell_type": "markdown",
   "metadata": {
    "slideshow": {
     "slide_type": "fragment"
    }
   },
   "source": [
    "Let's check the status of our `repo`"
   ]
  },
  {
   "cell_type": "code",
   "execution_count": null,
   "metadata": {},
   "outputs": [],
   "source": [
    "git status"
   ]
  },
  {
   "cell_type": "markdown",
   "metadata": {
    "lines_to_next_cell": 2,
    "slideshow": {
     "slide_type": "slide"
    }
   },
   "source": [
    "**I change my mind...**\n",
    "\n",
    "**cookies are better than ice cream**"
   ]
  },
  {
   "cell_type": "markdown",
   "metadata": {
    "slideshow": {
     "slide_type": "fragment"
    }
   },
   "source": [
    "```\n",
    "$ <text editor> desserts.md\n",
    "```\n",
    "\n",
    "> pie\\\n",
    "> cookies\\\n",
    "> ice cream\n",
    "\n",
    "Save and exit"
   ]
  },
  {
   "cell_type": "markdown",
   "metadata": {
    "slideshow": {
     "slide_type": "subslide"
    }
   },
   "source": [
    "Let's \\_\\_\\_\\_\\_\\_\\_\\_\\_\\_\\_\\_\\_\\_\\_\\_\\_\\_\\_\\_\\_\\_\\_\\_\n",
    "```\n",
    "git diff\n",
    "```\n",
    "\n",
    "How could we figure out what this command does?\n",
    "![](figures/zoom_icons/chat_mic.png)"
   ]
  },
  {
   "cell_type": "markdown",
   "metadata": {
    "slideshow": {
     "slide_type": "fragment"
    }
   },
   "source": [
    "Let's stage and commit the change\n",
    "```\n",
    "git ____ desserts.md\n",
    "git ____ -m \"switch cookies and ice cream\"\n",
    "```\n",
    "![](figures/zoom_icons/chat_mic.png)"
   ]
  },
  {
   "cell_type": "markdown",
   "metadata": {
    "lines_to_next_cell": 2,
    "slideshow": {
     "slide_type": "slide"
    }
   },
   "source": [
    "## Check your understanding"
   ]
  },
  {
   "cell_type": "markdown",
   "metadata": {
    "lines_to_next_cell": 2,
    "slideshow": {
     "slide_type": "fragment"
    }
   },
   "source": [
    "### What does git track?\n",
    "![](https://swcarpentry.github.io/git-novice/fig/play-changes.svg)"
   ]
  },
  {
   "cell_type": "markdown",
   "metadata": {
    "lines_to_next_cell": 2,
    "slideshow": {
     "slide_type": "fragment"
    }
   },
   "source": [
    "### Does git track changes to each letter?"
   ]
  },
  {
   "cell_type": "markdown",
   "metadata": {
    "lines_to_next_cell": 2,
    "slideshow": {
     "slide_type": "subslide"
    }
   },
   "source": [
    "### How do I get Git to track a change?"
   ]
  },
  {
   "cell_type": "markdown",
   "metadata": {
    "slideshow": {
     "slide_type": "fragment"
    }
   },
   "source": [
    "Put these in order:\n",
    "\n",
    "a) `git commit -m \"<this is what I did>\"`\\\n",
    "b) make the change\\\n",
    "c) `git add <file>`\n",
    "\n",
    "![](figures/zoom_icons/poll.png)"
   ]
  },
  {
   "cell_type": "markdown",
   "metadata": {
    "slideshow": {
     "slide_type": "slide"
    }
   },
   "source": [
    "## Roadmap\n",
    "\n",
    "- Goals\n",
    "- Setup\n",
    "- Why use git & GitHub?\n",
    "- Where does git store information?\n",
    "- How do I record changes in git?\n",
    "- **How do I share my changes on the web?**\n",
    "- How do I contribute to an existing project?\n",
    "- Goals"
   ]
  },
  {
   "cell_type": "markdown",
   "metadata": {
    "slideshow": {
     "slide_type": "slide"
    }
   },
   "source": [
    "![](../../../static/neurodata/w2_inspect.png)"
   ]
  },
  {
   "cell_type": "markdown",
   "metadata": {
    "slideshow": {
     "slide_type": "subslide"
    }
   },
   "source": [
    "![](../../../static/neurodata/w3_remote.png)"
   ]
  },
  {
   "cell_type": "markdown",
   "metadata": {
    "slideshow": {
     "slide_type": "subslide"
    }
   },
   "source": [
    "## Create a remote repo"
   ]
  },
  {
   "cell_type": "markdown",
   "metadata": {
    "slideshow": {
     "slide_type": "fragment"
    }
   },
   "source": [
    "- Go to [github.com](https://github.com/)"
   ]
  },
  {
   "cell_type": "markdown",
   "metadata": {
    "slideshow": {
     "slide_type": "fragment"
    }
   },
   "source": [
    "- Beside **Repositories**, click **New**"
   ]
  },
  {
   "cell_type": "markdown",
   "metadata": {
    "lines_to_next_cell": 2,
    "slideshow": {
     "slide_type": "fragment"
    }
   },
   "source": [
    "- Enter your repo name\n",
    "- Choose to make your repo Public or Private\n",
    "- Don't check any boxes\n",
    "- Click **Create repository**"
   ]
  },
  {
   "cell_type": "markdown",
   "metadata": {
    "slideshow": {
     "slide_type": "subslide"
    }
   },
   "source": [
    "## Link it to your local repo"
   ]
  },
  {
   "cell_type": "markdown",
   "metadata": {
    "slideshow": {
     "slide_type": "fragment"
    }
   },
   "source": [
    "Tell git the URL of your `remote repo` and name it 'origin'"
   ]
  },
  {
   "cell_type": "code",
   "execution_count": null,
   "metadata": {},
   "outputs": [],
   "source": [
    "git remote add origin https://github.com/<yourusername>/desserts.git"
   ]
  },
  {
   "cell_type": "markdown",
   "metadata": {
    "lines_to_next_cell": 2,
    "slideshow": {
     "slide_type": "fragment"
    }
   },
   "source": [
    "Set the name of your principle branch to main (if it's not already)"
   ]
  },
  {
   "cell_type": "code",
   "execution_count": null,
   "metadata": {},
   "outputs": [],
   "source": [
    "git branch -M main"
   ]
  },
  {
   "cell_type": "markdown",
   "metadata": {
    "lines_to_next_cell": 2,
    "slideshow": {
     "slide_type": "subslide"
    }
   },
   "source": [
    "Push your changes to `GitHub`"
   ]
  },
  {
   "cell_type": "code",
   "execution_count": null,
   "metadata": {},
   "outputs": [],
   "source": [
    "git push -u origin main"
   ]
  },
  {
   "cell_type": "markdown",
   "metadata": {
    "slideshow": {
     "slide_type": "fragment"
    }
   },
   "source": [
    "Refresh your GitHub repo"
   ]
  },
  {
   "cell_type": "markdown",
   "metadata": {
    "slideshow": {
     "slide_type": "slide"
    }
   },
   "source": [
    "## Roadmap\n",
    "\n",
    "- Goals\n",
    "- Setup\n",
    "- Why use git & GitHub?\n",
    "- Where does git store information?\n",
    "- How do I record changes in git?\n",
    "- How do I share my changes on the web?\n",
    "- **How do I contribute to an existing project?**\n",
    "- Goals"
   ]
  },
  {
   "cell_type": "markdown",
   "metadata": {
    "slideshow": {
     "slide_type": "subslide"
    }
   },
   "source": [
    "![](../../../static/neurodata/w4_update.png)"
   ]
  },
  {
   "cell_type": "markdown",
   "metadata": {
    "slideshow": {
     "slide_type": "subslide"
    }
   },
   "source": [
    "![](../../../static/neurodata/w5_upstream.png)"
   ]
  },
  {
   "cell_type": "markdown",
   "metadata": {
    "slideshow": {
     "slide_type": "slide"
    }
   },
   "source": [
    "## Branches"
   ]
  },
  {
   "cell_type": "markdown",
   "metadata": {
    "slideshow": {
     "slide_type": "subslide"
    }
   },
   "source": [
    "![](../../../static/neurodata/branches_features.png)"
   ]
  },
  {
   "cell_type": "markdown",
   "metadata": {
    "slideshow": {
     "slide_type": "subslide"
    }
   },
   "source": [
    "![](../../../static/neurodata/branches_collab.png)"
   ]
  },
  {
   "cell_type": "markdown",
   "metadata": {
    "slideshow": {
     "slide_type": "slide"
    }
   },
   "source": [
    "#### I want to contribute!"
   ]
  },
  {
   "cell_type": "markdown",
   "metadata": {
    "slideshow": {
     "slide_type": "fragment"
    }
   },
   "source": [
    "##### Contributing task 1: Get everyone's favorite desserts!\n",
    "\n"
   ]
  },
  {
   "cell_type": "markdown",
   "metadata": {
    "slideshow": {
     "slide_type": "slide"
    }
   },
   "source": [
    "## Roadmap\n",
    "\n",
    "- Goals\n",
    "- Setup\n",
    "- Why use git & GitHub?\n",
    "- Where does git store information?\n",
    "- How do I record changes in git?\n",
    "- How do I share my changes on the web?\n",
    "- How do I contribute to an existing project?\n",
    "- **Goals**"
   ]
  },
  {
   "cell_type": "markdown",
   "metadata": {
    "slideshow": {
     "slide_type": "slide"
    }
   },
   "source": [
    "### Did we meet our goals?"
   ]
  },
  {
   "cell_type": "markdown",
   "metadata": {
    "slideshow": {
     "slide_type": "subslide"
    }
   },
   "source": [
    "#### 1. Explain why git & GitHub are useful"
   ]
  },
  {
   "cell_type": "markdown",
   "metadata": {
    "slideshow": {
     "slide_type": "fragment"
    }
   },
   "source": [
    "... to a new grad student\n",
    "![](figures/zoom_icons/chat_mic.png)"
   ]
  },
  {
   "cell_type": "markdown",
   "metadata": {
    "lines_to_next_cell": 2,
    "slideshow": {
     "slide_type": "subslide"
    }
   },
   "source": [
    "#### 2. Track and share your work using git/GitHub (git level 1: commit push)\n"
   ]
  },
  {
   "cell_type": "markdown",
   "metadata": {
    "slideshow": {
     "slide_type": "fragment"
    }
   },
   "source": [
    "`status` &nbsp; &nbsp;\n",
    "`add` &nbsp; &nbsp;\n",
    "`init` &nbsp; &nbsp;\n",
    "`commit` &nbsp; &nbsp;\n",
    "`diff` &nbsp; &nbsp;\n",
    "`push` &nbsp; &nbsp;\n",
    "\n",
    "**Basic workflow for tracking a change and putting it on GitHub**\n",
    "- make a change\n",
    "- stage the change: `git ____ <filename>`\n",
    "- commit the change: `git ____ -m \"<commit message>\"`\n",
    "- put the change on GitHub: `git ____ origin main`"
   ]
  },
  {
   "cell_type": "markdown",
   "metadata": {
    "slideshow": {
     "slide_type": "subslide"
    }
   },
   "source": [
    "**See what's happening with git**\n",
    "- show the working tree status: `git ____`\n",
    "- show how the file changed: `git ____`"
   ]
  },
  {
   "cell_type": "markdown",
   "metadata": {
    "slideshow": {
     "slide_type": "subslide"
    }
   },
   "source": [
    "#### 3. Contribute to a project using git/GitHub (git level 2: branches PRs)"
   ]
  },
  {
   "cell_type": "markdown",
   "metadata": {
    "slideshow": {
     "slide_type": "fragment"
    }
   },
   "source": [
    "##### Contributing task 2: Correct spelling mistakes in desserts lists\n",
    "\n",
    "![](figures/issues.png)"
   ]
  },
  {
   "cell_type": "markdown",
   "metadata": {
    "lines_to_next_cell": 2,
    "slideshow": {
     "slide_type": "subslide"
    }
   },
   "source": [
    "![](https://media1.tenor.com/images/ae1fd92f4ed82fba165d777e4a05c9de/tenor.gif?itemid=14220287)"
   ]
  },
  {
   "cell_type": "markdown",
   "metadata": {
    "slideshow": {
     "slide_type": "slide"
    }
   },
   "source": [
    "## There's so much more!"
   ]
  },
  {
   "cell_type": "markdown",
   "metadata": {
    "slideshow": {
     "slide_type": "fragment"
    }
   },
   "source": [
    "### Git buffet\n",
    "![](../../../static/neurodata/git_github_buffet.png)"
   ]
  },
  {
   "cell_type": "markdown",
   "metadata": {
    "slideshow": {
     "slide_type": "slide"
    }
   },
   "source": [
    "### Git is hard\n",
    "Here are some tips"
   ]
  },
  {
   "cell_type": "markdown",
   "metadata": {
    "slideshow": {
     "slide_type": "subslide"
    }
   },
   "source": [
    "### Sit down and go through a tutorial\n",
    "![](../../../static/neurodata/swc_git_website.png)\n",
    "![](../../../static/neurodata/swc_coverage.png)"
   ]
  },
  {
   "cell_type": "markdown",
   "metadata": {
    "slideshow": {
     "slide_type": "subslide"
    }
   },
   "source": [
    "### Don't expect to remember everything\n",
    "![](../../../static/neurodata/google_stuff.png)"
   ]
  },
  {
   "cell_type": "markdown",
   "metadata": {
    "lines_to_next_cell": 0,
    "slideshow": {
     "slide_type": "subslide"
    }
   },
   "source": [
    "### Keep common commands on a sticky note\n",
    "![](../../../static/neurodata/sticky_note_on_laptop.jpg)"
   ]
  },
  {
   "cell_type": "markdown",
   "metadata": {
    "slideshow": {
     "slide_type": "subslide"
    }
   },
   "source": [
    "#### To learn it, you need to *commit* to doing it\n",
    "![](../../../static/neurodata/doing_and_understanding_cleaner.png)"
   ]
  },
  {
   "cell_type": "markdown",
   "metadata": {
    "slideshow": {
     "slide_type": "subslide"
    }
   },
   "source": [
    "![](https://raw.githubusercontent.com/louim/in-case-of-fire/master/in_case_of_fire.png)"
   ]
  },
  {
   "cell_type": "markdown",
   "metadata": {
    "slideshow": {
     "slide_type": "slide"
    }
   },
   "source": [
    "## The End\n",
    "\n",
    "\n",
    "Software Carpentry's tutorial: https://swcarpentry.github.io/git-novice/\n",
    "\n",
    "![](https://media.riffsy.com/images/f9fd6fdf307421f068d82cd050eae236/tenor.gif)\n"
   ]
  }
 ],
 "metadata": {
  "celltoolbar": "Slideshow",
  "jupytext": {
   "encoding": "# -*- coding: utf-8 -*-",
   "formats": "ipynb,py:light"
  },
  "kernelspec": {
   "display_name": "Python 3",
   "language": "python",
   "name": "python3"
  },
  "language_info": {
   "codemirror_mode": {
    "name": "ipython",
    "version": 3
   },
   "file_extension": ".py",
   "mimetype": "text/x-python",
   "name": "python",
   "nbconvert_exporter": "python",
   "pygments_lexer": "ipython3",
   "version": "3.6.4"
  }
 },
 "nbformat": 4,
 "nbformat_minor": 2
}
